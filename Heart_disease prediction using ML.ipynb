{
  "nbformat": 4,
  "nbformat_minor": 0,
  "metadata": {
    "colab": {
      "provenance": []
    },
    "kernelspec": {
      "name": "python3",
      "display_name": "Python 3"
    },
    "language_info": {
      "name": "python"
    }
  },
  "cells": [
    {
      "cell_type": "code",
      "execution_count": null,
      "metadata": {
        "colab": {
          "base_uri": "https://localhost:8080/"
        },
        "id": "4XuwshIx_N9p",
        "outputId": "abf37d14-e3a7-45ae-9e85-ebe120dcbeb7"
      },
      "outputs": [
        {
          "output_type": "stream",
          "name": "stdout",
          "text": [
            "Accuracy of SVM: 86.89%\n",
            "Accuracy of Decision Tree: 75.41%\n",
            "Accuracy of Logistic Regression: 88.52%\n"
          ]
        },
        {
          "output_type": "stream",
          "name": "stderr",
          "text": [
            "/usr/local/lib/python3.9/dist-packages/sklearn/linear_model/_logistic.py:458: ConvergenceWarning: lbfgs failed to converge (status=1):\n",
            "STOP: TOTAL NO. of ITERATIONS REACHED LIMIT.\n",
            "\n",
            "Increase the number of iterations (max_iter) or scale the data as shown in:\n",
            "    https://scikit-learn.org/stable/modules/preprocessing.html\n",
            "Please also refer to the documentation for alternative solver options:\n",
            "    https://scikit-learn.org/stable/modules/linear_model.html#logistic-regression\n",
            "  n_iter_i = _check_optimize_result(\n"
          ]
        }
      ],
      "source": [
        "# import necessary libraries\n",
        "import pandas as pd\n",
        "from sklearn.model_selection import train_test_split\n",
        "from sklearn.svm import SVC\n",
        "from sklearn.tree import DecisionTreeClassifier\n",
        "from sklearn.linear_model import LogisticRegression\n",
        "from sklearn.metrics import accuracy_score\n",
        "\n",
        "# load the heart disease dataset\n",
        "heart_df = pd.read_csv('/content/heart.csv')\n",
        "\n",
        "# split the dataset into training and testing sets\n",
        "X_train, X_test, y_train, y_test = train_test_split(heart_df.drop('target', axis=1),heart_df['target'],test_size=0.2,random_state=42)\n",
        "\n",
        "# create an SVM classifier and train it on the training set\n",
        "svm_clf = SVC(kernel='linear', random_state=42)\n",
        "svm_clf.fit(X_train, y_train)\n",
        "\n",
        "# create a decision tree classifier and train it on the training set\n",
        "dt_clf = DecisionTreeClassifier(random_state=42)\n",
        "dt_clf.fit(X_train, y_train)\n",
        "\n",
        "# create a logistic regression classifier and train it on the training set\n",
        "lr_clf = LogisticRegression(random_state=42)\n",
        "lr_clf.fit(X_train, y_train)\n",
        "\n",
        "# predict the target variable for the testing set using each classifier\n",
        "svm_preds = svm_clf.predict(X_test)\n",
        "dt_preds = dt_clf.predict(X_test)\n",
        "lr_preds = lr_clf.predict(X_test)\n",
        "\n",
        "# calculate the accuracy for each classifier\n",
        "svm_acc = accuracy_score(y_test, svm_preds)\n",
        "dt_acc = accuracy_score(y_test, dt_preds)\n",
        "lr_acc = accuracy_score(y_test, lr_preds)\n",
        "\n",
        "print(\"Accuracy of SVM: {:.2f}%\".format(svm_acc*100))\n",
        "print(\"Accuracy of Decision Tree: {:.2f}%\".format(dt_acc*100))\n",
        "print(\"Accuracy of Logistic Regression: {:.2f}%\".format(lr_acc*100))\n"
      ]
    }
  ]
}