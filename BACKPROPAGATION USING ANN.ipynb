{
  "nbformat": 4,
  "nbformat_minor": 0,
  "metadata": {
    "colab": {
      "provenance": []
    },
    "kernelspec": {
      "name": "python3",
      "display_name": "Python 3"
    },
    "language_info": {
      "name": "python"
    }
  },
  "cells": [
    {
      "cell_type": "code",
      "execution_count": null,
      "metadata": {
        "colab": {
          "base_uri": "https://localhost:8080/"
        },
        "id": "fRIl61-JQ5Xz",
        "outputId": "ee9dbe45-2439-4678-9774-bebc454725e0"
      },
      "outputs": [
        {
          "output_type": "stream",
          "name": "stdout",
          "text": [
            "Input: \n",
            "[[0.66666667 1.        ]\n",
            " [0.33333333 0.55555556]\n",
            " [1.         0.66666667]]\n",
            "Actual Output: \n",
            "[[0.92]\n",
            " [0.86]\n",
            " [0.89]]\n",
            "Predicted Output: \n",
            " [[0.89456818]\n",
            " [0.87701088]\n",
            " [0.89836121]]\n"
          ]
        }
      ],
      "source": [
        "import numpy as np\n",
        "X = np.array(([2, 9], [1, 5], [3, 6]), dtype=float)\n",
        "y = np.array(([92], [86], [89]), dtype=float)\n",
        "X = X/np.amax(X,axis=0)\n",
        "y = y/100\n",
        "\n",
        "def sigmoid (x):\n",
        "  return 1/(1 + np.exp(-x))\n",
        "\n",
        "def derivatives_sigmoid(x):\n",
        "  return x * (1 - x)\n",
        "\n",
        "epoch=5000\n",
        "lr=0.1\n",
        "inputlayer_neurons = 2\n",
        "hiddenlayer_neurons = 3\n",
        "output_neurons = 1\n",
        "\n",
        "wh=np.random.uniform(size=(inputlayer_neurons,hiddenlayer_neurons))\n",
        "bh=np.random.uniform(size=(1,hiddenlayer_neurons))\n",
        "wout=np.random.uniform(size=(hiddenlayer_neurons,output_neurons))\n",
        "bout=np.random.uniform(size=(1,output_neurons))\n",
        "\n",
        "for i in range(epoch):\n",
        "  hinp1=np.dot(X,wh)\n",
        "  hinp=hinp1 + bh\n",
        "  hlayer_act = sigmoid(hinp)\n",
        "  outinp1=np.dot(hlayer_act,wout)\n",
        "  outinp= outinp1+ bout\n",
        "  output = sigmoid(outinp)\n",
        "\n",
        "  EO = y-output\n",
        "  outgrad = derivatives_sigmoid(output)\n",
        "  d_output = EO* outgrad\n",
        "  EH = d_output.dot(wout.T)\n",
        "\n",
        "  hiddengrad = derivatives_sigmoid(hlayer_act)\n",
        "  d_hiddenlayer = EH * hiddengrad\n",
        "\n",
        "  wout += hlayer_act.T.dot(d_output) *lr\n",
        "  wh += X.T.dot(d_hiddenlayer) *lr\n",
        "print(\"Input: \\n\" + str(X))\n",
        "print(\"Actual Output: \\n\" + str(y))\n",
        "print(\"Predicted Output: \\n\" ,output)"
      ]
    }
  ]
}